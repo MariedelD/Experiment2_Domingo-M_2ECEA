{
 "cells": [
  {
   "cell_type": "code",
   "execution_count": 15,
   "id": "8c98817f-e7e3-403d-add4-01595265f541",
   "metadata": {},
   "outputs": [
    {
     "name": "stdout",
     "output_type": "stream",
     "text": [
      "The Matrix:\n",
      "\n",
      " [[0.5174363  0.1653358  0.36814148 0.94966785 0.92823728]\n",
      " [0.38408867 0.76829615 0.1059471  0.85663796 0.6600175 ]\n",
      " [0.65171186 0.77172397 0.01713484 0.64964963 0.05665006]\n",
      " [0.04439677 0.09525551 0.48795751 0.58920908 0.69446446]\n",
      " [0.91842432 0.92675344 0.04156899 0.5312246  0.88587336]]\n",
      "\n",
      "The Mean:  0.5226321796833989\n",
      "The Standard Deviation: 0.3212146345997268\n",
      "\n",
      " The Normalized Values: \n",
      " [[-0.01617572 -1.11232909 -0.48095786  1.32944027  1.26272297]\n",
      " [-0.43131132  0.76479696 -1.29721699  1.03982117  0.42770567]\n",
      " [ 0.40184869  0.77546836 -1.57370581  0.39542859 -1.4506877 ]\n",
      " [-1.48883442 -1.33050186 -0.10794859  0.20726609  0.53494536]\n",
      " [ 1.23217343  1.25810352 -1.49763782  0.02674977  1.13083634]]\n"
     ]
    }
   ],
   "source": [
    "#NORMALIZATION PROBLEM\n",
    "\n",
    "# Import the convention to access the NumPy library\n",
    "import numpy as np\n",
    "\n",
    "#create an array of m x n random values\n",
    "x=np.random.random((5, 5))\n",
    "\n",
    "#This function will calculate the normalized values\n",
    "X_normalized = (x-x.mean()) / x.std()\n",
    "\n",
    "#Save the normalized array\n",
    "np.save('X_normalized.npy', X_normalized)\n",
    "\n",
    "\n",
    "#The following functions will display the matrix, calculate the mean and standard deviation, and show the normalized values\n",
    "print(\"The Matrix:\\n\\n\", x)\n",
    "print(\"\\nThe Mean: \", x.mean())\n",
    "print(\"The Standard Deviation:\", x.std())\n",
    "print(\"\\n The Normalized Values: \\n\", X_normalized)"
   ]
  },
  {
   "cell_type": "code",
   "execution_count": 13,
   "id": "163b1ad8-1f34-4a69-8523-789b1183df61",
   "metadata": {},
   "outputs": [
    {
     "name": "stdout",
     "output_type": "stream",
     "text": [
      "The Original Array: \n",
      "\n",
      " [[    1     4     9    16    25    36    49    64    81   100]\n",
      " [  121   144   169   196   225   256   289   324   361   400]\n",
      " [  441   484   529   576   625   676   729   784   841   900]\n",
      " [  961  1024  1089  1156  1225  1296  1369  1444  1521  1600]\n",
      " [ 1681  1764  1849  1936  2025  2116  2209  2304  2401  2500]\n",
      " [ 2601  2704  2809  2916  3025  3136  3249  3364  3481  3600]\n",
      " [ 3721  3844  3969  4096  4225  4356  4489  4624  4761  4900]\n",
      " [ 5041  5184  5329  5476  5625  5776  5929  6084  6241  6400]\n",
      " [ 6561  6724  6889  7056  7225  7396  7569  7744  7921  8100]\n",
      " [ 8281  8464  8649  8836  9025  9216  9409  9604  9801 10000]]\n",
      "\n",
      "The values that are divisible by 3: \n",
      "\n",
      " [   9   36   81  144  225  324  441  576  729  900 1089 1296 1521 1764\n",
      " 2025 2304 2601 2916 3249 3600 3969 4356 4761 5184 5625 6084 6561 7056\n",
      " 7569 8100 8649 9216 9801]\n"
     ]
    }
   ],
   "source": [
    "#DIVISIBLE BY 3 PROBLEM\n",
    "\n",
    "#Import the convention to access the NumPy library\n",
    "import numpy as np\n",
    "\n",
    "#This function creates ndarrays withing a specific range\n",
    "A = np.arange(1, 101) **2\n",
    "\n",
    "#Reshape into 10x10 arrays\n",
    "A = A.reshape(10, 10)      \n",
    "\n",
    "#This function will filter the elements that are divisible by 3\n",
    "div_by_3 = A[A % 3 == 0]    \n",
    "\n",
    "#Save the the result as div_by_3.npy\n",
    "np.save('div_by_3.npy', div_by_3)\n",
    "\n",
    "#Display the original array and the filtered result\n",
    "print(\"The Original Array: \\n\\n\", A)\n",
    "print(\"\\nThe values that are divisible by 3: \\n\\n\", div_by_3)\n"
   ]
  },
  {
   "cell_type": "code",
   "execution_count": null,
   "id": "d598bb7b-57dd-4ab3-9fdc-9a6df10293db",
   "metadata": {},
   "outputs": [],
   "source": []
  }
 ],
 "metadata": {
  "kernelspec": {
   "display_name": "Python 3 (ipykernel)",
   "language": "python",
   "name": "python3"
  },
  "language_info": {
   "codemirror_mode": {
    "name": "ipython",
    "version": 3
   },
   "file_extension": ".py",
   "mimetype": "text/x-python",
   "name": "python",
   "nbconvert_exporter": "python",
   "pygments_lexer": "ipython3",
   "version": "3.12.4"
  }
 },
 "nbformat": 4,
 "nbformat_minor": 5
}
